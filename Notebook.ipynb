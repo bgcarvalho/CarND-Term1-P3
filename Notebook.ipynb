{
 "cells": [
  {
   "cell_type": "code",
   "execution_count": 1,
   "metadata": {},
   "outputs": [],
   "source": [
    "import numpy as np\n",
    "#import tensorflow as tf\n",
    "#from tensorflow.python.client import device_lib\n",
    "import pandas as pd\n",
    "from zipfile import ZipFile\n",
    "import matplotlib.image as mpimg\n",
    "import matplotlib.pyplot as plt\n",
    "from PIL import Image\n",
    "from sklearn.model_selection import train_test_split\n",
    "from sklearn.utils import shuffle\n",
    "#from skimage import exposure\n",
    "#from skimage.color import rgb2gray\n",
    "import platform\n",
    "import sys\n",
    "from datetime import datetime\n",
    "%matplotlib inline"
   ]
  },
  {
   "cell_type": "code",
   "execution_count": 2,
   "metadata": {},
   "outputs": [
    {
     "name": "stdout",
     "output_type": "stream",
     "text": [
      "Numpy data: (70, 160, 320, 3)\n",
      "70 images of 160 by 320 RGB\n"
     ]
    }
   ],
   "source": [
    "driving = \"driving_01\"\n",
    "\n",
    "# read CSV file with steering angle\n",
    "csvdata = pd.read_csv(\"./data/\" + driving + \".csv\", header=None)\n",
    "\n",
    "# \n",
    "# Images are in a Zip file, easier to upload to github\n",
    "# \n",
    "with ZipFile(\"./data/\" + driving + \".zip\") as f:\n",
    "    image_list = f.namelist()\n",
    "    # open first image to get pixel size\n",
    "    with f.open(image_list[1]) as fimage:\n",
    "        tmp = mpimg.imread(fimage, format='jpeg')\n",
    "    shape = (csvdata.shape[0], tmp.shape[0], tmp.shape[1], tmp.shape[2])\n",
    "    X_data = np.zeros(shape, np.float)\n",
    "    y_data = np.zeros(csvdata.shape[0], np.float)\n",
    "    for k in range(1, len(image_list)):\n",
    "        image = image_list[k]\n",
    "        if image[11:17] == 'center':\n",
    "            #im = Image.open(\"./data/\" + image)\n",
    "            X_data[k-1, :, :, :] = mpimg.imread(f.open(image), format='jpeg')\n",
    "\n",
    "\n",
    "y_data = y_data + csvdata.iloc[:, 3]\n",
    "print(\"Numpy data:\", X_data.shape)\n",
    "print(X_data.shape[0], \"images of\", X_data.shape[1], \"by\", X_data.shape[2], \"RGB\")"
   ]
  },
  {
   "cell_type": "code",
   "execution_count": 14,
   "metadata": {},
   "outputs": [
    {
     "name": "stdout",
     "output_type": "stream",
     "text": [
      "(46, 160, 320, 3)\n"
     ]
    }
   ],
   "source": [
    "X_train, X_test, y_train, y_test = train_test_split(X_data, y_data, test_size=0.33)\n",
    "print(X_train.shape)\n"
   ]
  },
  {
   "cell_type": "markdown",
   "metadata": {},
   "source": [
    "continue"
   ]
  },
  {
   "cell_type": "markdown",
   "metadata": {},
   "source": [
    "Could use sample data (provided) as test:"
   ]
  },
  {
   "cell_type": "code",
   "execution_count": 15,
   "metadata": {},
   "outputs": [],
   "source": [
    "#testdata = pd.read_csv(\"./sample-data/driving.csv\", header=None)\n",
    "#y_test = y_test + testdata.iloc[:, 3]\n"
   ]
  },
  {
   "cell_type": "markdown",
   "metadata": {},
   "source": [
    "# Model Architecture"
   ]
  },
  {
   "cell_type": "markdown",
   "metadata": {},
   "source": [
    "The proposed model has 5 convolutional layers and 4 fully connected."
   ]
  },
  {
   "cell_type": "code",
   "execution_count": 9,
   "metadata": {},
   "outputs": [],
   "source": [
    "from keras.models import load_model, Sequential\n",
    "from keras.layers import Dense, Flatten, Conv2D\n",
    "from keras.callbacks import EarlyStopping\n",
    "from keras import __version__ as keras_version\n",
    "import h5py"
   ]
  },
  {
   "cell_type": "code",
   "execution_count": 22,
   "metadata": {},
   "outputs": [
    {
     "name": "stdout",
     "output_type": "stream",
     "text": [
      "(46, 1) float64\n"
     ]
    }
   ],
   "source": [
    "from keras.utils.np_utils import to_categorical\n",
    "#y_binary = to_categorical(y_train)\n",
    "#print(y_binary.shape, y_binary.dtype)"
   ]
  },
  {
   "cell_type": "code",
   "execution_count": 12,
   "metadata": {},
   "outputs": [],
   "source": [
    "model = Sequential()\n",
    "\n",
    "# layer 1 - convolutional\n",
    "model.add(Conv2D(512, (3, 3), activation='relu', input_shape=(X_data.shape[1], X_data.shape[2], X_data.shape[3])))\n",
    "\n",
    "# layer 2\n",
    "#model.add(Conv2D(256, (3, 3), activation='relu'))\n",
    "\n",
    "# layer 3\n",
    "#model.add(Conv2D(128, (3, 3), activation='relu'))\n",
    "\n",
    "# layer 4\n",
    "model.add(Conv2D(64, (3, 3), activation='relu'))\n",
    "\n",
    "# layer 5\n",
    "model.add(Conv2D(32, (3, 3), activation='relu'))\n",
    "\n",
    "#model.add(Dropout(0.5))\n",
    "model.add(Flatten())\n",
    "\n",
    "# layer 6\n",
    "#model.add(Dense(10000, activation='relu'))\n",
    "#model.add(Dropout(0.5))\n",
    "\n",
    "# layer 7\n",
    "#model.add(Dense(1000, activation='relu'))\n",
    "\n",
    "# layer 8\n",
    "model.add(Dense(100, activation='relu'))\n",
    "\n",
    "# layer 9\n",
    "model.add(Dense(1, activation='relu'))"
   ]
  },
  {
   "cell_type": "code",
   "execution_count": 13,
   "metadata": {},
   "outputs": [
    {
     "name": "stdout",
     "output_type": "stream",
     "text": [
      "_________________________________________________________________\n",
      "Layer (type)                 Output Shape              Param #   \n",
      "=================================================================\n",
      "conv2d_6 (Conv2D)            (None, 158, 318, 512)     14336     \n",
      "_________________________________________________________________\n",
      "conv2d_7 (Conv2D)            (None, 156, 316, 256)     1179904   \n",
      "_________________________________________________________________\n",
      "conv2d_8 (Conv2D)            (None, 154, 314, 128)     295040    \n",
      "_________________________________________________________________\n",
      "conv2d_9 (Conv2D)            (None, 152, 312, 64)      73792     \n",
      "_________________________________________________________________\n",
      "conv2d_10 (Conv2D)           (None, 150, 310, 32)      18464     \n",
      "_________________________________________________________________\n",
      "flatten_2 (Flatten)          (None, 1488000)           0         \n",
      "_________________________________________________________________\n",
      "dense_5 (Dense)              (None, 10000)             1488001000\n",
      "_________________________________________________________________\n",
      "dense_6 (Dense)              (None, 1000)              10001000  \n",
      "_________________________________________________________________\n",
      "dense_7 (Dense)              (None, 100)               100100    \n",
      "_________________________________________________________________\n",
      "dense_8 (Dense)              (None, 1)                 101       \n",
      "=================================================================\n",
      "Total params: 14,891,692,737\n",
      "Trainable params: 14,891,692,737\n",
      "Non-trainable params: 0\n",
      "_________________________________________________________________\n",
      "None\n"
     ]
    }
   ],
   "source": [
    "print(model.summary())"
   ]
  },
  {
   "cell_type": "code",
   "execution_count": null,
   "metadata": {},
   "outputs": [
    {
     "name": "stdout",
     "output_type": "stream",
     "text": [
      "Epoch 1/10\n"
     ]
    }
   ],
   "source": [
    "ee = 1e-4\n",
    "cb_earlystop = EarlyStopping(min_delta=ee, patience=3, verbose=1)\n",
    "\n",
    "model.compile(loss='mean_squared_error', optimizer='adam')\n",
    "model.fit(X_train, y_train, batch_size=32, epochs=10, callbacks=[cb_earlystop], verbose=1)\n"
   ]
  },
  {
   "cell_type": "markdown",
   "metadata": {},
   "source": [
    "## Evaluate"
   ]
  },
  {
   "cell_type": "code",
   "execution_count": null,
   "metadata": {},
   "outputs": [],
   "source": [
    "score = model.evaluate(x_test, y_test, batch_size=32)\n",
    "print(score)"
   ]
  }
 ],
 "metadata": {
  "kernelspec": {
   "display_name": "Python 3",
   "language": "python",
   "name": "python3"
  },
  "language_info": {
   "codemirror_mode": {
    "name": "ipython",
    "version": 3
   },
   "file_extension": ".py",
   "mimetype": "text/x-python",
   "name": "python",
   "nbconvert_exporter": "python",
   "pygments_lexer": "ipython3",
   "version": "3.6.3"
  }
 },
 "nbformat": 4,
 "nbformat_minor": 2
}
