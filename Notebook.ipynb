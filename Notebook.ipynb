{
 "cells": [
  {
   "cell_type": "code",
   "execution_count": 53,
   "metadata": {
    "collapsed": false
   },
   "outputs": [],
   "source": [
    "import numpy as np\n",
    "#import tensorflow as tf\n",
    "#from tensorflow.python.client import device_lib\n",
    "import pandas as pd\n",
    "from zipfile import ZipFile\n",
    "import matplotlib.image as mpimg\n",
    "import matplotlib.pyplot as plt\n",
    "#import cv2\n",
    "from PIL import Image\n",
    "from sklearn.model_selection import train_test_split\n",
    "from sklearn.utils import shuffle\n",
    "#from skimage import exposure\n",
    "#from skimage.color import rgb2gray\n",
    "import platform\n",
    "import sys\n",
    "from datetime import datetime\n",
    "%matplotlib inline"
   ]
  },
  {
   "cell_type": "code",
   "execution_count": 54,
   "metadata": {
    "collapsed": false
   },
   "outputs": [
    {
     "name": "stdout",
     "output_type": "stream",
     "text": [
      "(7660, 4)\n",
      "<generator object generator at 0x7fc328eb5d58>\n"
     ]
    }
   ],
   "source": [
    "input_files = []\n",
    "input_sessions = 4\n",
    "\n",
    "samples = np.empty((0, 4))\n",
    "nlabels = 0\n",
    "for s in range(1, input_sessions+1):\n",
    "    # read CSV file with steering angle\n",
    "    csvdata = pd.read_csv(\"./data/driving_0\" + str(s) + \".csv\", header=None)\n",
    "    nl = csvdata.shape[0]\n",
    "    nlabels += nl\n",
    "    n_ = np.vectorize(lambda x: 'driving_0' + str(s))\n",
    "    \n",
    "    # temporary var\n",
    "    tmp = csvdata.iloc[:, [1, 3]].values\n",
    "    tmp = np.concatenate((tmp, np.zeros((nl, 1))), axis=1)\n",
    "    tmp = np.concatenate((tmp, n_(np.ones((nl, 1)))), axis=1)\n",
    "    \n",
    "    # duplicate\n",
    "    tmp = np.concatenate((tmp, tmp), axis=0)\n",
    "    tmp[:nl, 2] = 0 # first half\n",
    "    tmp[nl:, 2] = 1 # second half\n",
    "    \n",
    "    # concatenate\n",
    "    samples = np.concatenate((samples, tmp), axis=0)\n",
    "\n",
    "# total samples\n",
    "print(samples.shape)\n",
    "\n",
    "# original shape\n",
    "owidth = 320\n",
    "oheight = 160\n",
    "\n",
    "# crop\n",
    "stripetop = 60\n",
    "stripebot = 20\n",
    "\n",
    "def generator(samples, batch_size=32):\n",
    "    num_samples = len(samples)\n",
    "    # \n",
    "    # Loop forever so the generator never terminates\n",
    "    #  but it only executes when code calls \"next()\"\n",
    "    while 1:\n",
    "        shuffle(samples)\n",
    "        for offset in range(0, num_samples, batch_size):\n",
    "            batch_samples = samples[offset:offset+batch_size]\n",
    "\n",
    "            images = []\n",
    "            angles = []\n",
    "            for batch_sample in batch_samples:\n",
    "                filep = batch_sample[0].split('/')\n",
    "                name = './data/' + batch_sample[3] + '/' + filep[-1]\n",
    "                #center_image = cv2.imread(name)\n",
    "                center_image = mpimg.imread(name, format='jpeg')\n",
    "                center_angle = float(batch_sample[1])\n",
    "                \n",
    "                if batch_sample[2]:\n",
    "                    # flip image\n",
    "                    center_image = np.fliplr(center_image)\n",
    "                    center_angle = -center_angle\n",
    "                \n",
    "                # train data\n",
    "                images.append(center_image)\n",
    "                angles.append(center_angle)\n",
    "\n",
    "            # trim image to only see section with road\n",
    "            X_train = np.array(images)\n",
    "            y_train = np.array(angles)\n",
    "            yield shuffle(X_train, y_train)\n",
    "\n",
    "# \n",
    "train_samples, validation_samples = train_test_split(samples, test_size=0.2)\n",
    "#print(train_samples)\n",
    "\n",
    "# Python automatically interprets the function as generator, and WON'T execute it right away\n",
    "train_generator = generator(train_samples, batch_size=32)\n",
    "validation_generator = generator(validation_samples, batch_size=32)\n",
    "# \n",
    "print(train_generator)"
   ]
  },
  {
   "cell_type": "code",
   "execution_count": 55,
   "metadata": {
    "collapsed": false
   },
   "outputs": [
    {
     "name": "stdout",
     "output_type": "stream",
     "text": [
      "6128\n",
      "[ '/Users/bgcarvalho/Documents/Personal/pos_nanodegree_SDC/CarND-Term1-P3/data/IMG/left_2017_10_25_18_12_51_924.jpg'\n",
      " 0.0 0 'driving_01']\n"
     ]
    }
   ],
   "source": [
    "print(len(train_samples))\n",
    "print(samples[0])"
   ]
  },
  {
   "cell_type": "markdown",
   "metadata": {},
   "source": [
    "continue"
   ]
  },
  {
   "cell_type": "markdown",
   "metadata": {},
   "source": [
    "Could use sample data (provided) as test:"
   ]
  },
  {
   "cell_type": "code",
   "execution_count": 56,
   "metadata": {
    "collapsed": true
   },
   "outputs": [],
   "source": [
    "#testdata = pd.read_csv(\"./sample-data/driving.csv\", header=None)\n",
    "#y_test = y_test + testdata.iloc[:, 3]\n"
   ]
  },
  {
   "cell_type": "markdown",
   "metadata": {},
   "source": [
    "# Model Architecture"
   ]
  },
  {
   "cell_type": "markdown",
   "metadata": {},
   "source": [
    "The proposed model has 5 convolutional layers and 4 fully connected."
   ]
  },
  {
   "cell_type": "code",
   "execution_count": 57,
   "metadata": {
    "collapsed": false
   },
   "outputs": [],
   "source": [
    "from keras.models import load_model, Sequential\n",
    "from keras.layers import Dense, Flatten, Conv2D, Lambda, MaxPooling2D, Dropout\n",
    "from keras.layers import Cropping2D\n",
    "from keras.callbacks import EarlyStopping\n",
    "from keras import optimizers\n",
    "from keras import __version__ as keras_version\n",
    "import h5py"
   ]
  },
  {
   "cell_type": "code",
   "execution_count": null,
   "metadata": {
    "collapsed": false
   },
   "outputs": [],
   "source": []
  },
  {
   "cell_type": "code",
   "execution_count": 58,
   "metadata": {
    "collapsed": false
   },
   "outputs": [],
   "source": [
    "model = Sequential()\n",
    "\n",
    "# CROP images\n",
    "model.add(Cropping2D(cropping=((stripetop, stripebot), (0,0)), input_shape=(oheight, owidth, 3)))\n",
    "\n",
    "# normalization and mean centering\n",
    "model.add(Lambda(lambda x: (x / 255.0) - 0.5))\n",
    "\n",
    "# layer 1 - convolutional\n",
    "model.add(Conv2D(128, (3, 3), activation='relu'))\n",
    "model.add(MaxPooling2D())\n",
    "\n",
    "# layer 2\n",
    "model.add(Conv2D(100, (3, 3), activation='relu'))\n",
    "model.add(MaxPooling2D())\n",
    "\n",
    "# layer 3\n",
    "model.add(Conv2D(80, (3, 3), activation='relu'))\n",
    "#model.add(MaxPooling2D())\n",
    "\n",
    "# layer 4\n",
    "model.add(Conv2D(64, (3, 3), activation='relu'))\n",
    "#model.add(MaxPooling2D())\n",
    "\n",
    "# layer 5\n",
    "model.add(Conv2D(32, (3, 3), activation='relu'))\n",
    "#model.add(MaxPooling2D())\n",
    "\n",
    "\n",
    "model.add(Flatten())\n",
    "\n",
    "\n",
    "# layer 6\n",
    "#model.add(Dense(1000))\n",
    "model.add(Dense(100, activation='relu'))\n",
    "model.add(Dropout(0.5))\n",
    "\n",
    "# layer 7\n",
    "model.add(Dense(100, activation='relu'))\n",
    "model.add(Dropout(0.5))\n",
    "\n",
    "# layer 8\n",
    "#model.add(Dense(100, activation='relu'))\n",
    "model.add(Dense(100, activation='relu'))\n",
    "#model.add(Dropout(0.5))\n",
    "\n",
    "# layer 9\n",
    "model.add(Dense(1))"
   ]
  },
  {
   "cell_type": "code",
   "execution_count": 59,
   "metadata": {
    "collapsed": false
   },
   "outputs": [
    {
     "name": "stdout",
     "output_type": "stream",
     "text": [
      "_________________________________________________________________\n",
      "Layer (type)                 Output Shape              Param #   \n",
      "=================================================================\n",
      "cropping2d_3 (Cropping2D)    (None, 80, 320, 3)        0         \n",
      "_________________________________________________________________\n",
      "lambda_3 (Lambda)            (None, 80, 320, 3)        0         \n",
      "_________________________________________________________________\n",
      "conv2d_11 (Conv2D)           (None, 78, 318, 128)      3584      \n",
      "_________________________________________________________________\n",
      "max_pooling2d_5 (MaxPooling2 (None, 39, 159, 128)      0         \n",
      "_________________________________________________________________\n",
      "conv2d_12 (Conv2D)           (None, 37, 157, 100)      115300    \n",
      "_________________________________________________________________\n",
      "max_pooling2d_6 (MaxPooling2 (None, 18, 78, 100)       0         \n",
      "_________________________________________________________________\n",
      "conv2d_13 (Conv2D)           (None, 16, 76, 80)        72080     \n",
      "_________________________________________________________________\n",
      "conv2d_14 (Conv2D)           (None, 14, 74, 64)        46144     \n",
      "_________________________________________________________________\n",
      "conv2d_15 (Conv2D)           (None, 12, 72, 32)        18464     \n",
      "_________________________________________________________________\n",
      "flatten_3 (Flatten)          (None, 27648)             0         \n",
      "_________________________________________________________________\n",
      "dense_9 (Dense)              (None, 100)               2764900   \n",
      "_________________________________________________________________\n",
      "dropout_5 (Dropout)          (None, 100)               0         \n",
      "_________________________________________________________________\n",
      "dense_10 (Dense)             (None, 100)               10100     \n",
      "_________________________________________________________________\n",
      "dropout_6 (Dropout)          (None, 100)               0         \n",
      "_________________________________________________________________\n",
      "dense_11 (Dense)             (None, 100)               10100     \n",
      "_________________________________________________________________\n",
      "dense_12 (Dense)             (None, 1)                 101       \n",
      "=================================================================\n",
      "Total params: 3,040,773\n",
      "Trainable params: 3,040,773\n",
      "Non-trainable params: 0\n",
      "_________________________________________________________________\n",
      "None\n"
     ]
    }
   ],
   "source": [
    "print(model.summary())"
   ]
  },
  {
   "cell_type": "code",
   "execution_count": 60,
   "metadata": {
    "collapsed": false
   },
   "outputs": [
    {
     "name": "stdout",
     "output_type": "stream",
     "text": [
      "Epoch 1/5\n",
      "48/47 [==============================] - 32s - loss: 0.2563 - val_loss: 0.0629\n",
      "Epoch 2/5\n",
      "48/47 [==============================] - 30s - loss: 0.0681 - val_loss: 0.0628\n",
      "Epoch 3/5\n",
      "48/47 [==============================] - 30s - loss: 0.0597 - val_loss: 0.0619\n",
      "Epoch 4/5\n",
      "48/47 [==============================] - 32s - loss: 0.0573 - val_loss: 0.0617\n",
      "Epoch 5/5\n",
      "48/47 [==============================] - 30s - loss: 0.0655 - val_loss: 0.0617\n"
     ]
    }
   ],
   "source": [
    "ee = 1e-6\n",
    "cb_earlystop = EarlyStopping(min_delta=ee, patience=3, verbose=1)\n",
    "\n",
    "# learning rate and decay over time\n",
    "opt = optimizers.Adam(lr=0.005, decay=1e-6)\n",
    "\n",
    "# compile model\n",
    "model.compile(loss='mse', optimizer=opt)\n",
    "\n",
    "# train\n",
    "# samples_per_epoch=len(train_samples),\n",
    "history = model.fit_generator(train_generator, \n",
    "                              validation_data=validation_generator,\n",
    "                              validation_steps=len(validation_samples)/32,\n",
    "                              steps_per_epoch=len(validation_samples)/32, \n",
    "                              epochs=5,\n",
    "                              verbose=1)\n",
    "# save to disk\n",
    "model.save('model.h5')\n"
   ]
  },
  {
   "cell_type": "code",
   "execution_count": 61,
   "metadata": {
    "collapsed": false
   },
   "outputs": [
    {
     "data": {
      "text/plain": [
       "<matplotlib.legend.Legend at 0x7fc2ae3bbc50>"
      ]
     },
     "execution_count": 61,
     "metadata": {},
     "output_type": "execute_result"
    },
    {
     "data": {
      "image/png": "[encoded data removed]",
      "text/plain": [
       "<matplotlib.figure.Figure at 0x7fc32075bba8>"
      ]
     },
     "metadata": {},
     "output_type": "display_data"
    }
   ],
   "source": [
    "#print(history.history)\n",
    "plt.figure()\n",
    "plt.plot(history.history['loss'])\n",
    "plt.plot(history.history['val_loss'])\n",
    "plt.xlabel('epochs')\n",
    "plt.ylabel('')\n",
    "plt.title('Model training')\n",
    "plt.legend(['Training loss', 'Validation loss'])"
   ]
  },
  {
   "cell_type": "markdown",
   "metadata": {},
   "source": [
    "## Evaluate"
   ]
  },
  {
   "cell_type": "code",
   "execution_count": null,
   "metadata": {
    "collapsed": true
   },
   "outputs": [],
   "source": [
    "from keras.models import load_model"
   ]
  },
  {
   "cell_type": "code",
   "execution_count": null,
   "metadata": {
    "collapsed": true
   },
   "outputs": [],
   "source": [
    "test_generator = generator(test_samples, batch_size=32)\n",
    "\n",
    "model.load_model('model.h5')\n",
    "score = model.evaluate_generator(test_generator, batch_size=32)\n",
    "print(score)"
   ]
  }
 ],
 "metadata": {
  "anaconda-cloud": {},
  "kernelspec": {
   "display_name": "Python [default]",
   "language": "python",
   "name": "python3"
  },
  "language_info": {
   "codemirror_mode": {
    "name": "ipython",
    "version": 3
   },
   "file_extension": ".py",
   "mimetype": "text/x-python",
   "name": "python",
   "nbconvert_exporter": "python",
   "pygments_lexer": "ipython3",
   "version": "3.5.2"
  }
 },
 "nbformat": 4,
 "nbformat_minor": 2
}
