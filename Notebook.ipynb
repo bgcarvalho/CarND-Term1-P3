{
 "cells": [
  {
   "cell_type": "code",
   "execution_count": 1,
   "metadata": {
    "collapsed": true
   },
   "outputs": [],
   "source": [
    "import numpy as np\n",
    "#import tensorflow as tf\n",
    "#from tensorflow.python.client import device_lib\n",
    "import pandas as pd\n",
    "from zipfile import ZipFile\n",
    "import matplotlib.image as mpimg\n",
    "import matplotlib.pyplot as plt\n",
    "#import cv2\n",
    "from PIL import Image\n",
    "from sklearn.model_selection import train_test_split\n",
    "from sklearn.utils import shuffle\n",
    "#from skimage import exposure\n",
    "#from skimage.color import rgb2gray\n",
    "import platform\n",
    "import sys\n",
    "from datetime import datetime\n",
    "import random\n",
    "%matplotlib inline"
   ]
  },
  {
   "cell_type": "code",
   "execution_count": 2,
   "metadata": {
    "collapsed": false
   },
   "outputs": [
    {
     "name": "stdout",
     "output_type": "stream",
     "text": [
      "(63696, 4)\n",
      "<generator object generator at 0x7f4ad536d888>\n"
     ]
    }
   ],
   "source": [
    "\n",
    "c = ['center','left','right', 'steer', 'throttle', 'break', 'speed']\n",
    "samples = np.empty((0, 4))\n",
    "nlabels = 0\n",
    "#for s in range(1, input_sessions+1):\n",
    "#for s in [7, 8]:\n",
    "for s in [3, 4, 5, 6, 7, 8, 9, 11, 12, 13, 14, 15]:\n",
    "    # read CSV file with steering angle\n",
    "\n",
    "    csvdata = pd.read_csv(\"./data/driving_{:0>2d}.csv\".format(s), header=None, names=c)\n",
    "    # remove too low speed == car almost stopped\n",
    "    csvdata = csvdata[csvdata['speed'] >= 0.05]\n",
    "    \n",
    "    #print(csvdata.head(5))\n",
    "    \n",
    "    nl = csvdata.shape[0]\n",
    "    nlabels += nl\n",
    "    n_ = np.vectorize(lambda x: 'driving_{:0>2d}'.format(s))\n",
    "\n",
    "    # temporary var\n",
    "    tmp = csvdata.iloc[:, [0, 3]].values\n",
    "    tmp = np.concatenate((tmp, np.zeros((nl, 1))), axis=1)\n",
    "    tmp = np.concatenate((tmp, n_(np.ones((nl, 1)))), axis=1)\n",
    "    \n",
    "    # duplicate (flip images)\n",
    "    tmp = np.concatenate((tmp, tmp), axis=0)\n",
    "    tmp[:nl, 2] = 0 # first half\n",
    "    tmp[nl:, 2] = 1 # second half\n",
    "    \n",
    "    # concatenate\n",
    "    samples = np.concatenate((samples, tmp), axis=0)\n",
    "    \n",
    "    # left\n",
    "    left = csvdata.iloc[:, [1, 3]].values\n",
    "    left = np.concatenate((left, np.zeros((nl, 1))), axis=1)\n",
    "    left = np.concatenate((left, n_(np.ones((nl, 1)))), axis=1)\n",
    "    left[:, 1] += 0.225\n",
    "    \n",
    "    # concatenate\n",
    "    samples = np.concatenate((samples, left), axis=0)\n",
    "    \n",
    "    # right\n",
    "    right = csvdata.iloc[:, [2, 3]].values\n",
    "    right = np.concatenate((right, np.zeros((nl, 1))), axis=1)\n",
    "    right = np.concatenate((right, n_(np.ones((nl, 1)))), axis=1)\n",
    "    right[:, 1] -= 0.225\n",
    "    \n",
    "    # concatenate\n",
    "    samples = np.concatenate((samples, right), axis=0)\n",
    "    \n",
    "    \n",
    "# total samples\n",
    "print(samples.shape)\n",
    "\n",
    "# remove some data when the steering is zero (20%)\n",
    "#rem_indices = np.nonzero(samples[:, 1] == 0.0)\n",
    "#n = sum(1 for x in rem_indices[0])\n",
    "#for i in random.sample(rem_indices[0].tolist(), int(n*0.2)):\n",
    "#    samples = np.delete(samples, (i), axis=0)\n",
    "#\n",
    "#print(samples.shape)\n",
    "\n",
    "# original shape\n",
    "owidth = 320\n",
    "oheight = 160\n",
    "\n",
    "# crop\n",
    "stripetop = 55\n",
    "stripebot = 20\n",
    "\n",
    "def generator(samples, batch_size=32):\n",
    "    num_samples = len(samples)\n",
    "    # \n",
    "    # Loop forever so the generator never terminates\n",
    "    #  but it only executes when code calls \"next()\"\n",
    "    while 1:\n",
    "        shuffle(samples)\n",
    "        for offset in range(0, num_samples, batch_size):\n",
    "            batch_samples = samples[offset:offset+batch_size]\n",
    "\n",
    "            images = []\n",
    "            angles = []\n",
    "            for batch_sample in batch_samples:\n",
    "                filep = batch_sample[0].split('/')\n",
    "                name = './data/' + batch_sample[3] + '/' + filep[-1]\n",
    "                #center_image = cv2.imread(name)\n",
    "                center_image = mpimg.imread(name, format='jpeg')\n",
    "                center_angle = float(batch_sample[1])\n",
    "                \n",
    "                if batch_sample[2]:\n",
    "                    # flip image\n",
    "                    center_image = np.fliplr(center_image)\n",
    "                    center_angle = -center_angle\n",
    "                \n",
    "                # train data\n",
    "                images.append(center_image)\n",
    "                angles.append(center_angle)\n",
    "\n",
    "            # trim image to only see section with road\n",
    "            X_train = np.array(images)\n",
    "            y_train = np.array(angles)\n",
    "            yield shuffle(X_train, y_train)\n",
    "\n",
    "# \n",
    "train_samples, validation_samples = train_test_split(samples, test_size=0.2)\n",
    "#print(train_samples)\n",
    "\n",
    "# Python automatically interprets the function as generator, and WON'T execute it right away\n",
    "train_generator = generator(train_samples, batch_size=32)\n",
    "validation_generator = generator(validation_samples, batch_size=32)\n",
    "# \n",
    "print(train_generator)"
   ]
  },
  {
   "cell_type": "code",
   "execution_count": 3,
   "metadata": {
    "collapsed": false
   },
   "outputs": [
    {
     "name": "stdout",
     "output_type": "stream",
     "text": [
      "50956\n",
      "[ '/Users/bgcarvalho/Documents/Personal/pos_nanodegree_SDC/CarND-Term1-P3/data/IMG/center_2017_10_26_21_59_46_606.jpg'\n",
      " 0.0 0 'driving_03']\n"
     ]
    }
   ],
   "source": [
    "print(len(train_samples))\n",
    "print(samples[0])"
   ]
  },
  {
   "cell_type": "markdown",
   "metadata": {},
   "source": [
    "# Model Architecture"
   ]
  },
  {
   "cell_type": "markdown",
   "metadata": {},
   "source": [
    "The proposed model has 5 convolutional layers and 4 fully connected."
   ]
  },
  {
   "cell_type": "code",
   "execution_count": 4,
   "metadata": {
    "collapsed": false
   },
   "outputs": [
    {
     "name": "stderr",
     "output_type": "stream",
     "text": [
      "Using TensorFlow backend.\n"
     ]
    }
   ],
   "source": [
    "from keras.models import load_model, Sequential\n",
    "from keras.layers import Dense, Flatten, Conv2D, Lambda, MaxPooling2D, Dropout\n",
    "from keras.layers import Cropping2D\n",
    "from keras.callbacks import EarlyStopping\n",
    "from keras import optimizers\n",
    "from keras import __version__ as keras_version\n",
    "import h5py"
   ]
  },
  {
   "cell_type": "code",
   "execution_count": null,
   "metadata": {
    "collapsed": true
   },
   "outputs": [],
   "source": []
  },
  {
   "cell_type": "code",
   "execution_count": 5,
   "metadata": {
    "collapsed": true
   },
   "outputs": [],
   "source": [
    "model = Sequential()\n",
    "\n",
    "# CROP images\n",
    "model.add(Cropping2D(cropping=((stripetop, stripebot), (0,0)), input_shape=(oheight, owidth, 3)))\n",
    "\n",
    "# normalization and mean centering\n",
    "model.add(Lambda(lambda x: (x / 255.0) - 0.5))\n",
    "\n",
    "model.add(Conv2D( 24, (7, 7), strides=(2, 2), activation='relu'))\n",
    "model.add(Conv2D( 36, (5, 5), strides=(2, 2), activation='relu'))\n",
    "model.add(Conv2D( 48, (5, 5), strides=(2, 2), activation='relu'))\n",
    "model.add(Conv2D( 60, (5, 5), activation='relu'))\n",
    "model.add(Conv2D( 72, (3, 3), activation='relu'))\n",
    "\n",
    "model.add(Dropout(0.5))\n",
    "\n",
    "model.add(Flatten())\n",
    "\n",
    "# layer 6\n",
    "model.add(Dense(72, activation='relu'))\n",
    "\n",
    "# layer 7\n",
    "model.add(Dense(60, activation='relu'))\n",
    "\n",
    "# layer 8\n",
    "model.add(Dense(48, activation='relu'))\n",
    "\n",
    "# layer 9\n",
    "model.add(Dense(1, name='steer_angle'))"
   ]
  },
  {
   "cell_type": "code",
   "execution_count": 6,
   "metadata": {
    "collapsed": false
   },
   "outputs": [
    {
     "name": "stdout",
     "output_type": "stream",
     "text": [
      "_________________________________________________________________\n",
      "Layer (type)                 Output Shape              Param #   \n",
      "=================================================================\n",
      "cropping2d_1 (Cropping2D)    (None, 85, 320, 3)        0         \n",
      "_________________________________________________________________\n",
      "lambda_1 (Lambda)            (None, 85, 320, 3)        0         \n",
      "_________________________________________________________________\n",
      "conv2d_1 (Conv2D)            (None, 40, 157, 24)       3552      \n",
      "_________________________________________________________________\n",
      "conv2d_2 (Conv2D)            (None, 18, 77, 36)        21636     \n",
      "_________________________________________________________________\n",
      "conv2d_3 (Conv2D)            (None, 7, 37, 48)         43248     \n",
      "_________________________________________________________________\n",
      "conv2d_4 (Conv2D)            (None, 3, 33, 60)         72060     \n",
      "_________________________________________________________________\n",
      "conv2d_5 (Conv2D)            (None, 1, 31, 72)         38952     \n",
      "_________________________________________________________________\n",
      "dropout_1 (Dropout)          (None, 1, 31, 72)         0         \n",
      "_________________________________________________________________\n",
      "flatten_1 (Flatten)          (None, 2232)              0         \n",
      "_________________________________________________________________\n",
      "dense_1 (Dense)              (None, 72)                160776    \n",
      "_________________________________________________________________\n",
      "dense_2 (Dense)              (None, 60)                4380      \n",
      "_________________________________________________________________\n",
      "dense_3 (Dense)              (None, 48)                2928      \n",
      "_________________________________________________________________\n",
      "steer_angle (Dense)          (None, 1)                 49        \n",
      "=================================================================\n",
      "Total params: 347,581\n",
      "Trainable params: 347,581\n",
      "Non-trainable params: 0\n",
      "_________________________________________________________________\n",
      "None\n"
     ]
    }
   ],
   "source": [
    "print(model.summary())"
   ]
  },
  {
   "cell_type": "code",
   "execution_count": 7,
   "metadata": {
    "collapsed": false
   },
   "outputs": [
    {
     "name": "stdout",
     "output_type": "stream",
     "text": [
      "Epoch 1/20\n",
      "160/159 [==============================] - 14s - loss: 0.0523 - val_loss: 0.0428\n",
      "Epoch 2/20\n",
      "160/159 [==============================] - 12s - loss: 0.0476 - val_loss: 0.0419\n",
      "Epoch 3/20\n",
      "160/159 [==============================] - 13s - loss: 0.0442 - val_loss: 0.0408\n",
      "Epoch 4/20\n",
      "160/159 [==============================] - 12s - loss: 0.0397 - val_loss: 0.0376\n",
      "Epoch 5/20\n",
      "160/159 [==============================] - 13s - loss: 0.0404 - val_loss: 0.0434\n",
      "Epoch 6/20\n",
      "160/159 [==============================] - 12s - loss: 0.0388 - val_loss: 0.0363\n",
      "Epoch 7/20\n",
      "160/159 [==============================] - 12s - loss: 0.0363 - val_loss: 0.0340\n",
      "Epoch 8/20\n",
      "160/159 [==============================] - 12s - loss: 0.0327 - val_loss: 0.0367\n",
      "Epoch 9/20\n",
      "160/159 [==============================] - 12s - loss: 0.0354 - val_loss: 0.0341\n",
      "Epoch 10/20\n",
      "160/159 [==============================] - 12s - loss: 0.0339 - val_loss: 0.0321\n",
      "Epoch 11/20\n",
      "160/159 [==============================] - 12s - loss: 0.0297 - val_loss: 0.0281\n",
      "Epoch 12/20\n",
      "160/159 [==============================] - 12s - loss: 0.0328 - val_loss: 0.0296\n",
      "Epoch 13/20\n",
      "160/159 [==============================] - 12s - loss: 0.0314 - val_loss: 0.0253\n",
      "Epoch 14/20\n",
      "160/159 [==============================] - 12s - loss: 0.0283 - val_loss: 0.0246\n",
      "Epoch 15/20\n",
      "160/159 [==============================] - 12s - loss: 0.0273 - val_loss: 0.0269\n",
      "Epoch 16/20\n",
      "160/159 [==============================] - 12s - loss: 0.0272 - val_loss: 0.0275\n",
      "Epoch 00015: early stopping\n"
     ]
    }
   ],
   "source": [
    "ee = 1e-3\n",
    "cb_earlystop = EarlyStopping(min_delta=ee, patience=2, verbose=1)\n",
    "\n",
    "# learning rate and decay over time\n",
    "opt = optimizers.Adam(lr=0.001, decay=1e-4)\n",
    "\n",
    "# compile model\n",
    "model.compile(loss='mse', optimizer=opt)\n",
    "\n",
    "# train\n",
    "# samples_per_epoch=len(train_samples),\n",
    "history = model.fit_generator(train_generator, \n",
    "                              steps_per_epoch=len(train_samples)/320,\n",
    "                              #steps_per_epoch=10,\n",
    "                              validation_data=validation_generator,\n",
    "                              validation_steps=len(validation_samples)/320,\n",
    "                              epochs=20,\n",
    "                              verbose=1,\n",
    "                              callbacks=[cb_earlystop]\n",
    "                             )\n",
    "# save to disk\n",
    "model.save('model.h5')\n"
   ]
  },
  {
   "cell_type": "code",
   "execution_count": 8,
   "metadata": {
    "collapsed": false
   },
   "outputs": [
    {
     "data": {
      "text/plain": [
       "<matplotlib.legend.Legend at 0x7f4a3c0965f8>"
      ]
     },
     "execution_count": 8,
     "metadata": {},
     "output_type": "execute_result"
    },
    {
     "data": {
      "image/png": "[encoded data removed]",
      "text/plain": [
       "<matplotlib.figure.Figure at 0x7f4a8b42d588>"
      ]
     },
     "metadata": {},
     "output_type": "display_data"
    }
   ],
   "source": [
    "#print(history.history)\n",
    "plt.figure()\n",
    "plt.plot(history.history['loss'])\n",
    "plt.plot(history.history['val_loss'])\n",
    "plt.xlabel('epochs')\n",
    "plt.ylabel('')\n",
    "plt.title('Model training')\n",
    "plt.legend(['Training loss', 'Validation loss'])"
   ]
  },
  {
   "cell_type": "code",
   "execution_count": null,
   "metadata": {
    "collapsed": true
   },
   "outputs": [],
   "source": []
  }
 ],
 "metadata": {
  "anaconda-cloud": {},
  "kernelspec": {
   "display_name": "Python [default]",
   "language": "python",
   "name": "python3"
  },
  "language_info": {
   "codemirror_mode": {
    "name": "ipython",
    "version": 3
   },
   "file_extension": ".py",
   "mimetype": "text/x-python",
   "name": "python",
   "nbconvert_exporter": "python",
   "pygments_lexer": "ipython3",
   "version": "3.5.2"
  }
 },
 "nbformat": 4,
 "nbformat_minor": 2
}
