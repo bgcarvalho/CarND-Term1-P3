{
 "cells": [
  {
   "cell_type": "code",
   "execution_count": 1,
   "metadata": {},
   "outputs": [],
   "source": [
    "import numpy as np\n",
    "#import tensorflow as tf\n",
    "#from tensorflow.python.client import device_lib\n",
    "import pandas as pd\n",
    "from zipfile import ZipFile\n",
    "import matplotlib.image as mpimg\n",
    "import matplotlib.pyplot as plt\n",
    "from PIL import Image\n",
    "from sklearn.utils import shuffle\n",
    "#from skimage import exposure\n",
    "#from skimage.color import rgb2gray\n",
    "import platform\n",
    "import sys\n",
    "from datetime import datetime\n",
    "%matplotlib inline"
   ]
  },
  {
   "cell_type": "code",
   "execution_count": 17,
   "metadata": {},
   "outputs": [
    {
     "name": "stdout",
     "output_type": "stream",
     "text": [
      "Numpy data: (70, 160, 320, 3)\n",
      "70 images of 160 by 320 RGB\n"
     ]
    }
   ],
   "source": [
    "driving = \"driving_01\"\n",
    "\n",
    "csvdata = pd.read_csv(\"./data/\" + driving + \".csv\", header=None)\n",
    "\n",
    "with ZipFile(\"./data/\" + driving + \".zip\") as f:\n",
    "    image_list = f.namelist()\n",
    "    with f.open(image_list[1]) as fimage:\n",
    "        tmp = mpimg.imread(fimage, format='jpeg')\n",
    "    shape = (csvdata.shape[0], tmp.shape[0], tmp.shape[1], tmp.shape[2])\n",
    "    X_train = np.zeros(shape, np.float)\n",
    "    for k in range(1, len(image_list)):\n",
    "        image = image_list[k]\n",
    "        if image[11:17] == 'center':\n",
    "            #im = Image.open(\"./data/\" + image)\n",
    "            X_train[k-1, :, :, :] = mpimg.imread(f.open(image), format='jpeg')\n",
    "\n",
    "y_train = np.zeros(X_train.shape[0], np.float)\n",
    "y_train = y_train + csvdata.iloc[:, 3]\n",
    "print(\"Numpy data:\", X_train.shape)\n",
    "print(X_train.shape[0], \"images of\", X_train.shape[1], \"by\", X_train.shape[2], \"RGB\")"
   ]
  },
  {
   "cell_type": "markdown",
   "metadata": {},
   "source": []
  },
  {
   "cell_type": "markdown",
   "metadata": {},
   "source": [
    "Use sample data (provided) as test"
   ]
  },
  {
   "cell_type": "code",
   "execution_count": null,
   "metadata": {},
   "outputs": [],
   "source": [
    "testdata = pd.read_csv(\"./sample-data/driving.csv\", header=None)\n"
   ]
  }
 ],
 "metadata": {
  "kernelspec": {
   "display_name": "Python 3",
   "language": "python",
   "name": "python3"
  },
  "language_info": {
   "codemirror_mode": {
    "name": "ipython",
    "version": 3
   },
   "file_extension": ".py",
   "mimetype": "text/x-python",
   "name": "python",
   "nbconvert_exporter": "python",
   "pygments_lexer": "ipython3",
   "version": "3.6.3"
  }
 },
 "nbformat": 4,
 "nbformat_minor": 2
}
