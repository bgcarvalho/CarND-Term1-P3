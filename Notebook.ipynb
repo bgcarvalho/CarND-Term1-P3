{
 "cells": [
  {
   "cell_type": "code",
   "execution_count": 2,
   "metadata": {},
   "outputs": [],
   "source": [
    "import numpy as np\n",
    "#import tensorflow as tf\n",
    "#from tensorflow.python.client import device_lib\n",
    "import pandas as pd\n",
    "from zipfile import ZipFile\n",
    "import matplotlib.image as mpimg\n",
    "import matplotlib.pyplot as plt\n",
    "#import cv2\n",
    "from PIL import Image\n",
    "from sklearn.model_selection import train_test_split\n",
    "from sklearn.utils import shuffle\n",
    "#from skimage import exposure\n",
    "#from skimage.color import rgb2gray\n",
    "import platform\n",
    "import sys\n",
    "from datetime import datetime\n",
    "%matplotlib inline"
   ]
  },
  {
   "cell_type": "code",
   "execution_count": 16,
   "metadata": {},
   "outputs": [
    {
     "name": "stdout",
     "output_type": "stream",
     "text": [
      "(38816, 4)\n",
      "<generator object generator at 0x7f692014a678>\n"
     ]
    }
   ],
   "source": [
    "input_files = []\n",
    "input_sessions = 7\n",
    "\n",
    "c = ['center','left','right', 'steer', 'throttle', 'break', 'speed']\n",
    "samples = np.empty((0, 4))\n",
    "nlabels = 0\n",
    "#for s in range(1, input_sessions+1):\n",
    "#for s in [7, 8]:\n",
    "for s in [1, 2, 3, 4, 5, 6, 7, 8]:\n",
    "    # read CSV file with steering angle\n",
    "\n",
    "    csvdata = pd.read_csv(\"./data/driving_0\" + str(s) + \".csv\", header=None, names=c)\n",
    "    # remove too low speed == car almost stopped\n",
    "    csvdata = csvdata[csvdata['speed'] >= 0.05]\n",
    "    \n",
    "    #print(csvdata.head(5))\n",
    "    \n",
    "    nl = csvdata.shape[0]\n",
    "    nlabels += nl\n",
    "    n_ = np.vectorize(lambda x: 'driving_0' + str(s))\n",
    "\n",
    "    # temporary var\n",
    "    tmp = csvdata.iloc[:, [0, 3]].values\n",
    "    tmp = np.concatenate((tmp, np.zeros((nl, 1))), axis=1)\n",
    "    tmp = np.concatenate((tmp, n_(np.ones((nl, 1)))), axis=1)\n",
    "    \n",
    "    # duplicate (flip images)\n",
    "    tmp = np.concatenate((tmp, tmp), axis=0)\n",
    "    tmp[:nl, 2] = 0 # first half\n",
    "    tmp[nl:, 2] = 1 # second half\n",
    "    \n",
    "    # concatenate\n",
    "    samples = np.concatenate((samples, tmp), axis=0)\n",
    "    \n",
    "    # left\n",
    "    left = csvdata.iloc[:, [1, 3]].values\n",
    "    left = np.concatenate((left, np.zeros((nl, 1))), axis=1)\n",
    "    left = np.concatenate((left, n_(np.ones((nl, 1)))), axis=1)\n",
    "    left[:, 1] += 0.225\n",
    "    \n",
    "    # concatenate\n",
    "    samples = np.concatenate((samples, left), axis=0)\n",
    "    \n",
    "    # right\n",
    "    right = csvdata.iloc[:, [2, 3]].values\n",
    "    right = np.concatenate((right, np.zeros((nl, 1))), axis=1)\n",
    "    right = np.concatenate((right, n_(np.ones((nl, 1)))), axis=1)\n",
    "    right[:, 1] -= 0.225\n",
    "    \n",
    "    # concatenate\n",
    "    samples = np.concatenate((samples, right), axis=0)\n",
    "    \n",
    "    \n",
    "# total samples\n",
    "print(samples.shape)\n",
    "\n",
    "# original shape\n",
    "owidth = 320\n",
    "oheight = 160\n",
    "\n",
    "# crop\n",
    "stripetop = 55\n",
    "stripebot = 15\n",
    "\n",
    "def generator(samples, batch_size=32):\n",
    "    num_samples = len(samples)\n",
    "    # \n",
    "    # Loop forever so the generator never terminates\n",
    "    #  but it only executes when code calls \"next()\"\n",
    "    while 1:\n",
    "        shuffle(samples)\n",
    "        for offset in range(0, num_samples, batch_size):\n",
    "            batch_samples = samples[offset:offset+batch_size]\n",
    "\n",
    "            images = []\n",
    "            angles = []\n",
    "            for batch_sample in batch_samples:\n",
    "                filep = batch_sample[0].split('/')\n",
    "                name = './data/' + batch_sample[3] + '/' + filep[-1]\n",
    "                #center_image = cv2.imread(name)\n",
    "                center_image = mpimg.imread(name, format='jpeg')\n",
    "                center_angle = float(batch_sample[1])\n",
    "                \n",
    "                if batch_sample[2]:\n",
    "                    # flip image\n",
    "                    center_image = np.fliplr(center_image)\n",
    "                    center_angle = -center_angle\n",
    "                \n",
    "                # train data\n",
    "                images.append(center_image)\n",
    "                angles.append(center_angle)\n",
    "\n",
    "            # trim image to only see section with road\n",
    "            X_train = np.array(images)\n",
    "            y_train = np.array(angles)\n",
    "            yield shuffle(X_train, y_train)\n",
    "\n",
    "# \n",
    "train_samples, validation_samples = train_test_split(samples, test_size=0.2)\n",
    "#print(train_samples)\n",
    "\n",
    "# Python automatically interprets the function as generator, and WON'T execute it right away\n",
    "train_generator = generator(train_samples, batch_size=32)\n",
    "validation_generator = generator(validation_samples, batch_size=32)\n",
    "# \n",
    "print(train_generator)"
   ]
  },
  {
   "cell_type": "code",
   "execution_count": 17,
   "metadata": {},
   "outputs": [
    {
     "name": "stdout",
     "output_type": "stream",
     "text": [
      "31052\n",
      "[ '/Users/bgcarvalho/Documents/Personal/pos_nanodegree_SDC/CarND-Term1-P3/data/IMG/center_2017_10_25_18_12_51_924.jpg'\n",
      " 0.0 0 'driving_01']\n"
     ]
    }
   ],
   "source": [
    "print(len(train_samples))\n",
    "print(samples[0])"
   ]
  },
  {
   "cell_type": "markdown",
   "metadata": {},
   "source": [
    "# Model Architecture"
   ]
  },
  {
   "cell_type": "markdown",
   "metadata": {},
   "source": [
    "The proposed model has 5 convolutional layers and 4 fully connected."
   ]
  },
  {
   "cell_type": "code",
   "execution_count": 18,
   "metadata": {},
   "outputs": [
    {
     "name": "stderr",
     "output_type": "stream",
     "text": [
      "Using TensorFlow backend.\n"
     ]
    }
   ],
   "source": [
    "from keras.models import load_model, Sequential\n",
    "from keras.layers import Dense, Flatten, Conv2D, Lambda, MaxPooling2D, Dropout\n",
    "from keras.layers import Cropping2D\n",
    "from keras.callbacks import EarlyStopping\n",
    "from keras import optimizers\n",
    "from keras import __version__ as keras_version\n",
    "import h5py"
   ]
  },
  {
   "cell_type": "code",
   "execution_count": null,
   "metadata": {},
   "outputs": [],
   "source": []
  },
  {
   "cell_type": "code",
   "execution_count": 21,
   "metadata": {},
   "outputs": [],
   "source": [
    "model = Sequential()\n",
    "\n",
    "# CROP images\n",
    "model.add(Cropping2D(cropping=((stripetop, stripebot), (0,0)), input_shape=(oheight, owidth, 3)))\n",
    "\n",
    "# normalization and mean centering\n",
    "model.add(Lambda(lambda x: (x / 255.0) - 0.5))\n",
    "\n",
    "model.add(Conv2D( 24, (7, 7), strides=(2, 2), activation='relu'))\n",
    "model.add(Conv2D( 36, (5, 5), strides=(2, 2), activation='relu'))\n",
    "model.add(Conv2D( 48, (5, 5), strides=(2, 2), activation='relu'))\n",
    "model.add(Conv2D( 60, (5, 5), activation='relu'))\n",
    "model.add(Conv2D( 72, (3, 3), activation='relu'))\n",
    "\n",
    "model.add(Dropout(0.5))\n",
    "\n",
    "model.add(Flatten())\n",
    "\n",
    "# layer 6\n",
    "model.add(Dense(48, activation='relu'))\n",
    "\n",
    "# layer 7\n",
    "model.add(Dense(32, activation='relu'))\n",
    "\n",
    "# layer 8\n",
    "model.add(Dense(16, activation='relu'))\n",
    "\n",
    "# layer 9\n",
    "model.add(Dense(1, name='steer_angle'))"
   ]
  },
  {
   "cell_type": "code",
   "execution_count": 22,
   "metadata": {},
   "outputs": [
    {
     "name": "stdout",
     "output_type": "stream",
     "text": [
      "_________________________________________________________________\n",
      "Layer (type)                 Output Shape              Param #   \n",
      "=================================================================\n",
      "cropping2d_2 (Cropping2D)    (None, 90, 320, 3)        0         \n",
      "_________________________________________________________________\n",
      "lambda_2 (Lambda)            (None, 90, 320, 3)        0         \n",
      "_________________________________________________________________\n",
      "conv2d_6 (Conv2D)            (None, 42, 157, 24)       3552      \n",
      "_________________________________________________________________\n",
      "conv2d_7 (Conv2D)            (None, 19, 77, 36)        21636     \n",
      "_________________________________________________________________\n",
      "conv2d_8 (Conv2D)            (None, 8, 37, 48)         43248     \n",
      "_________________________________________________________________\n",
      "conv2d_9 (Conv2D)            (None, 4, 33, 60)         72060     \n",
      "_________________________________________________________________\n",
      "conv2d_10 (Conv2D)           (None, 2, 31, 72)         38952     \n",
      "_________________________________________________________________\n",
      "dropout_2 (Dropout)          (None, 2, 31, 72)         0         \n",
      "_________________________________________________________________\n",
      "flatten_2 (Flatten)          (None, 4464)              0         \n",
      "_________________________________________________________________\n",
      "dense_4 (Dense)              (None, 48)                214320    \n",
      "_________________________________________________________________\n",
      "dense_5 (Dense)              (None, 32)                1568      \n",
      "_________________________________________________________________\n",
      "dense_6 (Dense)              (None, 16)                528       \n",
      "_________________________________________________________________\n",
      "steer_angle (Dense)          (None, 1)                 17        \n",
      "=================================================================\n",
      "Total params: 395,881\n",
      "Trainable params: 395,881\n",
      "Non-trainable params: 0\n",
      "_________________________________________________________________\n",
      "None\n"
     ]
    }
   ],
   "source": [
    "print(model.summary())"
   ]
  },
  {
   "cell_type": "code",
   "execution_count": 23,
   "metadata": {},
   "outputs": [
    {
     "name": "stdout",
     "output_type": "stream",
     "text": [
      "Epoch 1/10\n",
      "98/97 [==============================] - 10s - loss: 0.0667 - val_loss: 0.0671\n",
      "Epoch 2/10\n",
      "98/97 [==============================] - 8s - loss: 0.0654 - val_loss: 0.0604\n",
      "Epoch 3/10\n",
      "98/97 [==============================] - 8s - loss: 0.0675 - val_loss: 0.0582\n",
      "Epoch 4/10\n",
      "98/97 [==============================] - 8s - loss: 0.0560 - val_loss: 0.0421\n",
      "Epoch 5/10\n",
      "98/97 [==============================] - 8s - loss: 0.0489 - val_loss: 0.0395\n",
      "Epoch 6/10\n",
      "98/97 [==============================] - 8s - loss: 0.0443 - val_loss: 0.0502\n",
      "Epoch 7/10\n",
      "98/97 [==============================] - 9s - loss: 0.0423 - val_loss: 0.0423\n",
      "Epoch 8/10\n",
      "98/97 [==============================] - 9s - loss: 0.0433 - val_loss: 0.0384\n",
      "Epoch 9/10\n",
      "98/97 [==============================] - 8s - loss: 0.0401 - val_loss: 0.0275\n",
      "Epoch 10/10\n",
      "98/97 [==============================] - 8s - loss: 0.0375 - val_loss: 0.0392\n"
     ]
    }
   ],
   "source": [
    "ee = 1e-3\n",
    "cb_earlystop = EarlyStopping(min_delta=ee, patience=3, verbose=1)\n",
    "\n",
    "# learning rate and decay over time\n",
    "opt = optimizers.Adam(lr=0.0007)\n",
    "\n",
    "# compile model\n",
    "model.compile(loss='mse', optimizer=opt)\n",
    "\n",
    "# train\n",
    "# samples_per_epoch=len(train_samples),\n",
    "history = model.fit_generator(train_generator, \n",
    "                              steps_per_epoch=len(train_samples)/320,\n",
    "                              #steps_per_epoch=10,\n",
    "                              validation_data=validation_generator,\n",
    "                              validation_steps=len(validation_samples)/320,\n",
    "                              epochs=10,\n",
    "                              verbose=1)\n",
    "# save to disk\n",
    "model.save('model.h5')\n"
   ]
  },
  {
   "cell_type": "code",
   "execution_count": 24,
   "metadata": {},
   "outputs": [
    {
     "data": {
      "text/plain": [
       "<matplotlib.legend.Legend at 0x7f689c7ea2b0>"
      ]
     },
     "execution_count": 24,
     "metadata": {},
     "output_type": "execute_result"
    },
    {
     "data": {
      "image/png": "[encoded data removed]",
      "text/plain": [
       "<matplotlib.figure.Figure at 0x7f68b03e4ba8>"
      ]
     },
     "metadata": {},
     "output_type": "display_data"
    }
   ],
   "source": [
    "#print(history.history)\n",
    "plt.figure()\n",
    "plt.plot(history.history['loss'])\n",
    "plt.plot(history.history['val_loss'])\n",
    "plt.xlabel('epochs')\n",
    "plt.ylabel('')\n",
    "plt.title('Model training')\n",
    "plt.legend(['Training loss', 'Validation loss'])"
   ]
  },
  {
   "cell_type": "code",
   "execution_count": null,
   "metadata": {
    "collapsed": true
   },
   "outputs": [],
   "source": []
  }
 ],
 "metadata": {
  "anaconda-cloud": {},
  "kernelspec": {
   "display_name": "Python 3",
   "language": "python",
   "name": "python3"
  },
  "language_info": {
   "codemirror_mode": {
    "name": "ipython",
    "version": 3
   },
   "file_extension": ".py",
   "mimetype": "text/x-python",
   "name": "python",
   "nbconvert_exporter": "python",
   "pygments_lexer": "ipython3",
   "version": "3.6.3"
  }
 },
 "nbformat": 4,
 "nbformat_minor": 2
}
